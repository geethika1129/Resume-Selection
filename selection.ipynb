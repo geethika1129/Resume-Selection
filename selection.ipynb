{
 "cells": [
  {
   "cell_type": "code",
   "execution_count": 1,
   "metadata": {},
   "outputs": [],
   "source": [
    "import pandas as pd\n",
    "import numpy as np\n",
    "import matplotlib.pyplot as plt\n",
    "import seaborn as sns\n",
    "from wordcloud import WordCloud, STOPWORDS\n",
    "import nltk\n",
    "from nltk.stem import PorterStemmer, WordNetLemmatizer\n",
    "from nltk.corpus import stopwords\n",
    "from nltk.tokenize import word_tokenize, sent_tokenize\n",
    "import gensim\n",
    "from gensim.utils import simple_preprocess\n",
    "from gensim.utils import simple_preprocess\n",
    "from gensim.parsing.preprocessing import STOPWORDS\n",
    "from sklearn.metrics import classification_report, confusion_matrix"
   ]
  },
  {
   "cell_type": "code",
   "execution_count": 2,
   "metadata": {},
   "outputs": [],
   "source": [
    "df=pd.read_csv('resume_data.csv',encoding='latin-1')"
   ]
  },
  {
   "cell_type": "code",
   "execution_count": 3,
   "metadata": {},
   "outputs": [
    {
     "data": {
      "text/html": [
       "<div>\n",
       "<style scoped>\n",
       "    .dataframe tbody tr th:only-of-type {\n",
       "        vertical-align: middle;\n",
       "    }\n",
       "\n",
       "    .dataframe tbody tr th {\n",
       "        vertical-align: top;\n",
       "    }\n",
       "\n",
       "    .dataframe thead th {\n",
       "        text-align: right;\n",
       "    }\n",
       "</style>\n",
       "<table border=\"1\" class=\"dataframe\">\n",
       "  <thead>\n",
       "    <tr style=\"text-align: right;\">\n",
       "      <th></th>\n",
       "      <th>resume_id</th>\n",
       "      <th>class</th>\n",
       "      <th>resume_text</th>\n",
       "    </tr>\n",
       "  </thead>\n",
       "  <tbody>\n",
       "    <tr>\n",
       "      <th>0</th>\n",
       "      <td>resume_1</td>\n",
       "      <td>not_flagged</td>\n",
       "      <td>\\rCustomer Service Supervisor/Tier - Isabella ...</td>\n",
       "    </tr>\n",
       "    <tr>\n",
       "      <th>1</th>\n",
       "      <td>resume_2</td>\n",
       "      <td>not_flagged</td>\n",
       "      <td>\\rEngineer / Scientist - IBM Microelectronics ...</td>\n",
       "    </tr>\n",
       "    <tr>\n",
       "      <th>2</th>\n",
       "      <td>resume_3</td>\n",
       "      <td>not_flagged</td>\n",
       "      <td>\\rLTS Software Engineer Computational Lithogra...</td>\n",
       "    </tr>\n",
       "    <tr>\n",
       "      <th>3</th>\n",
       "      <td>resume_4</td>\n",
       "      <td>not_flagged</td>\n",
       "      <td>TUTOR\\rWilliston VT - Email me on Indeed: ind...</td>\n",
       "    </tr>\n",
       "    <tr>\n",
       "      <th>4</th>\n",
       "      <td>resume_5</td>\n",
       "      <td>flagged</td>\n",
       "      <td>\\rIndependent Consultant - Self-employed\\rBurl...</td>\n",
       "    </tr>\n",
       "    <tr>\n",
       "      <th>...</th>\n",
       "      <td>...</td>\n",
       "      <td>...</td>\n",
       "      <td>...</td>\n",
       "    </tr>\n",
       "    <tr>\n",
       "      <th>120</th>\n",
       "      <td>resume_121</td>\n",
       "      <td>not_flagged</td>\n",
       "      <td>\\rBrattleboro VT - Email me on Indeed: indeed....</td>\n",
       "    </tr>\n",
       "    <tr>\n",
       "      <th>121</th>\n",
       "      <td>resume_122</td>\n",
       "      <td>not_flagged</td>\n",
       "      <td>\\rResearch and Teaching Assistant - University...</td>\n",
       "    </tr>\n",
       "    <tr>\n",
       "      <th>122</th>\n",
       "      <td>resume_123</td>\n",
       "      <td>not_flagged</td>\n",
       "      <td>\\rMedical Coder - Highly Skilled - Entry Level...</td>\n",
       "    </tr>\n",
       "    <tr>\n",
       "      <th>123</th>\n",
       "      <td>resume_124</td>\n",
       "      <td>flagged</td>\n",
       "      <td>\\rWaterbury VT - Email me on Indeed: indeed.co...</td>\n",
       "    </tr>\n",
       "    <tr>\n",
       "      <th>124</th>\n",
       "      <td>resume_125</td>\n",
       "      <td>not_flagged</td>\n",
       "      <td>\\rResearch and Development Scientist - Burling...</td>\n",
       "    </tr>\n",
       "  </tbody>\n",
       "</table>\n",
       "<p>125 rows × 3 columns</p>\n",
       "</div>"
      ],
      "text/plain": [
       "      resume_id        class  \\\n",
       "0      resume_1  not_flagged   \n",
       "1      resume_2  not_flagged   \n",
       "2      resume_3  not_flagged   \n",
       "3      resume_4  not_flagged   \n",
       "4      resume_5      flagged   \n",
       "..          ...          ...   \n",
       "120  resume_121  not_flagged   \n",
       "121  resume_122  not_flagged   \n",
       "122  resume_123  not_flagged   \n",
       "123  resume_124      flagged   \n",
       "124  resume_125  not_flagged   \n",
       "\n",
       "                                           resume_text  \n",
       "0    \\rCustomer Service Supervisor/Tier - Isabella ...  \n",
       "1    \\rEngineer / Scientist - IBM Microelectronics ...  \n",
       "2    \\rLTS Software Engineer Computational Lithogra...  \n",
       "3     TUTOR\\rWilliston VT - Email me on Indeed: ind...  \n",
       "4    \\rIndependent Consultant - Self-employed\\rBurl...  \n",
       "..                                                 ...  \n",
       "120  \\rBrattleboro VT - Email me on Indeed: indeed....  \n",
       "121  \\rResearch and Teaching Assistant - University...  \n",
       "122  \\rMedical Coder - Highly Skilled - Entry Level...  \n",
       "123  \\rWaterbury VT - Email me on Indeed: indeed.co...  \n",
       "124  \\rResearch and Development Scientist - Burling...  \n",
       "\n",
       "[125 rows x 3 columns]"
      ]
     },
     "execution_count": 3,
     "metadata": {},
     "output_type": "execute_result"
    }
   ],
   "source": [
    "df"
   ]
  },
  {
   "cell_type": "code",
   "execution_count": 4,
   "metadata": {},
   "outputs": [],
   "source": [
    "df=df[['resume_text','class']]"
   ]
  },
  {
   "cell_type": "code",
   "execution_count": null,
   "metadata": {},
   "outputs": [],
   "source": []
  }
 ],
 "metadata": {
  "kernelspec": {
   "display_name": "Python 3",
   "language": "python",
   "name": "python3"
  },
  "language_info": {
   "codemirror_mode": {
    "name": "ipython",
    "version": 3
   },
   "file_extension": ".py",
   "mimetype": "text/x-python",
   "name": "python",
   "nbconvert_exporter": "python",
   "pygments_lexer": "ipython3",
   "version": "3.10.2"
  },
  "orig_nbformat": 4,
  "vscode": {
   "interpreter": {
    "hash": "27f6fea6f47ae512550f0b8facdbd035a93e1dd89633f7bf2dd00a2502c71d0d"
   }
  }
 },
 "nbformat": 4,
 "nbformat_minor": 2
}
